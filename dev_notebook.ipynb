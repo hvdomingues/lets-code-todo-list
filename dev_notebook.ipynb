{
 "cells": [
  {
   "cell_type": "code",
   "execution_count": 1,
   "metadata": {},
   "outputs": [],
   "source": [
    "# Importação de bibliotecas\n",
    "\n",
    "import pandas as pd\n",
    "\n",
    "# Importação de todas as classes da pasta\n",
    "\n",
    "from task_class import Task\n",
    "from task_list_class import Task_List\n",
    "from category_class import Category\n",
    "from manage_csv_class import Manage_Csv\n",
    "\n",
    "# Sugestão: criar um único arquiva que carrega todas as dependências(?)\n"
   ]
  },
  {
   "cell_type": "code",
   "execution_count": 2,
   "metadata": {},
   "outputs": [
    {
     "data": {
      "text/html": [
       "<div>\n",
       "<style scoped>\n",
       "    .dataframe tbody tr th:only-of-type {\n",
       "        vertical-align: middle;\n",
       "    }\n",
       "\n",
       "    .dataframe tbody tr th {\n",
       "        vertical-align: top;\n",
       "    }\n",
       "\n",
       "    .dataframe thead th {\n",
       "        text-align: right;\n",
       "    }\n",
       "</style>\n",
       "<table border=\"1\" class=\"dataframe\">\n",
       "  <thead>\n",
       "    <tr style=\"text-align: right;\">\n",
       "      <th></th>\n",
       "      <th>title</th>\n",
       "      <th>category_code</th>\n",
       "      <th>status</th>\n",
       "      <th>date</th>\n",
       "    </tr>\n",
       "  </thead>\n",
       "  <tbody>\n",
       "    <tr>\n",
       "      <th>0</th>\n",
       "      <td>Teste</td>\n",
       "      <td>1</td>\n",
       "      <td>Pendente</td>\n",
       "      <td>22-10-1999</td>\n",
       "    </tr>\n",
       "    <tr>\n",
       "      <th>1</th>\n",
       "      <td>Teste de task</td>\n",
       "      <td>0</td>\n",
       "      <td>Pendente</td>\n",
       "      <td>10-02-1645</td>\n",
       "    </tr>\n",
       "    <tr>\n",
       "      <th>2</th>\n",
       "      <td>Teste de task</td>\n",
       "      <td>0</td>\n",
       "      <td>Pendente</td>\n",
       "      <td>10-02-1645</td>\n",
       "    </tr>\n",
       "    <tr>\n",
       "      <th>3</th>\n",
       "      <td>Teste de task</td>\n",
       "      <td>0</td>\n",
       "      <td>Pendente</td>\n",
       "      <td>10-02-1645</td>\n",
       "    </tr>\n",
       "    <tr>\n",
       "      <th>4</th>\n",
       "      <td>Teste de task</td>\n",
       "      <td>0</td>\n",
       "      <td>Pendente</td>\n",
       "      <td>10-02-1645</td>\n",
       "    </tr>\n",
       "    <tr>\n",
       "      <th>5</th>\n",
       "      <td>Teste de task</td>\n",
       "      <td>0</td>\n",
       "      <td>Pendente</td>\n",
       "      <td>10-02-1645</td>\n",
       "    </tr>\n",
       "    <tr>\n",
       "      <th>6</th>\n",
       "      <td>Outro teste de task</td>\n",
       "      <td>0</td>\n",
       "      <td>Pendente</td>\n",
       "      <td>10-02-1645</td>\n",
       "    </tr>\n",
       "    <tr>\n",
       "      <th>7</th>\n",
       "      <td>Outro teste de 2</td>\n",
       "      <td>0</td>\n",
       "      <td>Pendente</td>\n",
       "      <td>10-02-1645</td>\n",
       "    </tr>\n",
       "  </tbody>\n",
       "</table>\n",
       "</div>"
      ],
      "text/plain": [
       "                 title  category_code    status        date\n",
       "0                Teste              1  Pendente  22-10-1999\n",
       "1        Teste de task              0  Pendente  10-02-1645\n",
       "2        Teste de task              0  Pendente  10-02-1645\n",
       "3        Teste de task              0  Pendente  10-02-1645\n",
       "4        Teste de task              0  Pendente  10-02-1645\n",
       "5        Teste de task              0  Pendente  10-02-1645\n",
       "6  Outro teste de task              0  Pendente  10-02-1645\n",
       "7     Outro teste de 2              0  Pendente  10-02-1645"
      ]
     },
     "execution_count": 2,
     "metadata": {},
     "output_type": "execute_result"
    }
   ],
   "source": [
    "# Coletando todos os registros de tarefas\n",
    "\n",
    "df = Task_List.get_task_list()\n",
    "df"
   ]
  },
  {
   "cell_type": "code",
   "execution_count": 3,
   "metadata": {},
   "outputs": [],
   "source": [
    "# Aqui será implementada da classe de controle de Menu\n",
    "\n",
    "def menu():\n",
    "    pass"
   ]
  },
  {
   "cell_type": "code",
   "execution_count": 4,
   "metadata": {},
   "outputs": [
    {
     "name": "stdout",
     "output_type": "stream",
     "text": [
      "Outro teste de 2 10-02-1645\n",
      "Erro ao inserir a task: Outro teste de 2 10-02-1645\n",
      "Exception: Já existe uma tarefa com o mesmo nome e mesma data.\n"
     ]
    }
   ],
   "source": [
    "# Teste de inserção de Task que já existe\n",
    "\n",
    "task1 = Task('Outro teste de 2','10-02-1645','Teste')\n",
    "Task.insert_task(task1)"
   ]
  }
 ],
 "metadata": {
  "interpreter": {
   "hash": "b3ba2566441a7c06988d0923437866b63cedc61552a5af99d1f4fb67d367b25f"
  },
  "kernelspec": {
   "display_name": "Python 3.8.8 64-bit ('base': conda)",
   "language": "python",
   "name": "python3"
  },
  "language_info": {
   "codemirror_mode": {
    "name": "ipython",
    "version": 3
   },
   "file_extension": ".py",
   "mimetype": "text/x-python",
   "name": "python",
   "nbconvert_exporter": "python",
   "pygments_lexer": "ipython3",
   "version": "3.9.5"
  },
  "orig_nbformat": 4
 },
 "nbformat": 4,
 "nbformat_minor": 2
}
