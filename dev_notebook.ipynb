{
 "cells": [
  {
   "cell_type": "code",
   "execution_count": 5,
   "metadata": {},
   "outputs": [],
   "source": [
    "import pandas as pd"
   ]
  },
  {
   "cell_type": "code",
   "execution_count": 108,
   "metadata": {},
   "outputs": [],
   "source": [
    "class Task:\n",
    "    \n",
    "    def __init__(self, title, date, category, status = 'Pendente'):\n",
    "        self.title = title\n",
    "        self.date = date\n",
    "        self.category = category\n",
    "        self.status = status\n",
    "\n",
    "    def __repr__(self):\n",
    "        return f\"{self.title} {self.date}\"\n"
   ]
  },
  {
   "cell_type": "code",
   "execution_count": 15,
   "metadata": {},
   "outputs": [],
   "source": [
    "class Task_List:\n",
    "    pass"
   ]
  },
  {
   "cell_type": "code",
   "execution_count": 37,
   "metadata": {},
   "outputs": [],
   "source": [
    "class Category:\n",
    "\n",
    "    __categories = {0:'Teste'}\n",
    "    \n",
    "    @staticmethod\n",
    "    def find_code(category_name):\n",
    "        return (list(Category.__categories.keys())[list(Category.__categories.values()).index(category_name)])\n",
    "        "
   ]
  },
  {
   "cell_type": "code",
   "execution_count": 118,
   "metadata": {},
   "outputs": [],
   "source": [
    "class Manage_Csv:\n",
    "\n",
    "    __path = 'task_list.csv'\n",
    "\n",
    "    @staticmethod\n",
    "    def read():\n",
    "        df = pd.read_csv(Manage_Csv.__path)\n",
    "        return df\n",
    "    \n",
    "    @staticmethod\n",
    "    def insert_task(*tasks):\n",
    "\n",
    "        to_insert = pd.DataFrame(columns=Manage_Csv.read().columns)\n",
    "\n",
    "        for task in tasks:\n",
    "            try:\n",
    "                Manage_Csv.__check_task_existence(task)\n",
    "                title = task.title\n",
    "                date = task.date\n",
    "                category_code = Category.find_code(task.category)\n",
    "                status = task.status\n",
    "                to_insert.loc[-1] = [title,category_code,status,date]\n",
    "\n",
    "            except Exception as e:\n",
    "                print(f\"Erro ao inserir a task: {task}\\nException: {str(e)}\")\n",
    "\n",
    "            \n",
    "\n",
    "        to_insert.to_csv(Manage_Csv.__path, mode='a', header=False, index=False)\n",
    "        \n",
    "    @staticmethod\n",
    "    def __check_task_existence(task):\n",
    "        existing_tasks = Manage_Csv.read()\n",
    "\n",
    "\n",
    "        equal_tasks = existing_tasks.loc[(existing_tasks['title'] == task.title) & (existing_tasks['date'] == task.date)].values\n",
    "\n",
    "        if len(equal_tasks) > 0:\n",
    "            print(task)\n",
    "            raise Exception('Já tem uma task existente com o mesmo nome e mesma data')\n",
    "\n",
    "            \n",
    "\n",
    "    @staticmethod\n",
    "    def delete_task_by_title():\n",
    "        pass\n",
    "\n",
    "\n"
   ]
  },
  {
   "cell_type": "code",
   "execution_count": 14,
   "metadata": {},
   "outputs": [
    {
     "data": {
      "text/html": [
       "<div>\n",
       "<style scoped>\n",
       "    .dataframe tbody tr th:only-of-type {\n",
       "        vertical-align: middle;\n",
       "    }\n",
       "\n",
       "    .dataframe tbody tr th {\n",
       "        vertical-align: top;\n",
       "    }\n",
       "\n",
       "    .dataframe thead th {\n",
       "        text-align: right;\n",
       "    }\n",
       "</style>\n",
       "<table border=\"1\" class=\"dataframe\">\n",
       "  <thead>\n",
       "    <tr style=\"text-align: right;\">\n",
       "      <th></th>\n",
       "      <th>name</th>\n",
       "      <th>category_code</th>\n",
       "      <th>status</th>\n",
       "      <th>date</th>\n",
       "    </tr>\n",
       "  </thead>\n",
       "  <tbody>\n",
       "    <tr>\n",
       "      <th>0</th>\n",
       "      <td>Teste</td>\n",
       "      <td>1</td>\n",
       "      <td>Pendente</td>\n",
       "      <td>22-10-1999</td>\n",
       "    </tr>\n",
       "  </tbody>\n",
       "</table>\n",
       "</div>"
      ],
      "text/plain": [
       "    name  category_code    status        date\n",
       "0  Teste              1  Pendente  22-10-1999"
      ]
     },
     "execution_count": 14,
     "metadata": {},
     "output_type": "execute_result"
    }
   ],
   "source": [
    "df = Manage_Csv.read()\n",
    "df"
   ]
  },
  {
   "cell_type": "code",
   "execution_count": 19,
   "metadata": {},
   "outputs": [],
   "source": [
    "def menu():\n",
    "    pass"
   ]
  },
  {
   "cell_type": "code",
   "execution_count": 117,
   "metadata": {},
   "outputs": [
    {
     "name": "stdout",
     "output_type": "stream",
     "text": [
      "[]\n"
     ]
    }
   ],
   "source": [
    "\n",
    "task1 = Task('Outro teste de 2','10-02-1645','Teste')\n",
    "Manage_Csv.insert_task(task1)"
   ]
  },
  {
   "cell_type": "code",
   "execution_count": 100,
   "metadata": {},
   "outputs": [
    {
     "data": {
      "text/plain": [
       "'Outro teste de task'"
      ]
     },
     "execution_count": 100,
     "metadata": {},
     "output_type": "execute_result"
    }
   ],
   "source": []
  },
  {
   "cell_type": "code",
   "execution_count": null,
   "metadata": {},
   "outputs": [],
   "source": []
  }
 ],
 "metadata": {
  "interpreter": {
   "hash": "b3ba2566441a7c06988d0923437866b63cedc61552a5af99d1f4fb67d367b25f"
  },
  "kernelspec": {
   "display_name": "Python 3.8.8 64-bit ('base': conda)",
   "language": "python",
   "name": "python3"
  },
  "language_info": {
   "codemirror_mode": {
    "name": "ipython",
    "version": 3
   },
   "file_extension": ".py",
   "mimetype": "text/x-python",
   "name": "python",
   "nbconvert_exporter": "python",
   "pygments_lexer": "ipython3",
   "version": "3.8.8"
  },
  "orig_nbformat": 4
 },
 "nbformat": 4,
 "nbformat_minor": 2
}
