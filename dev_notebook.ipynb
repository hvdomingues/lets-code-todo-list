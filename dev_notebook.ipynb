{
 "cells": [
  {
   "cell_type": "code",
   "execution_count": 1,
   "metadata": {},
   "outputs": [],
   "source": [
    "import pandas as pd"
   ]
  },
  {
   "cell_type": "code",
   "execution_count": 3,
   "metadata": {},
   "outputs": [],
   "source": [
    "class Task:\r\n",
    "\r\n",
    "    __path = 'task_list.csv'\r\n",
    "    \r\n",
    "    def __init__(self, title, date, category, status = 'Pendente'):\r\n",
    "        self.title = title\r\n",
    "        self.date = date\r\n",
    "        self.category = category\r\n",
    "        self.status = status\r\n",
    "\r\n",
    "    def __repr__(self):\r\n",
    "        return f\"{self.title} {self.date}\"\r\n",
    "    \r\n",
    "    @staticmethod\r\n",
    "    def insert_task(*tasks):\r\n",
    "\r\n",
    "        to_insert = pd.DataFrame(columns=Manage_Csv.read(Task.__path).columns)\r\n",
    "\r\n",
    "        for task in tasks:\r\n",
    "            try:\r\n",
    "                Task.__check_task_existence(task)\r\n",
    "                title = task.title\r\n",
    "                date = task.date\r\n",
    "                category_code = Category.find_code(task.category)\r\n",
    "                status = task.status\r\n",
    "                to_insert.loc[-1] = [title,category_code,status,date]\r\n",
    "\r\n",
    "            except Exception as e:\r\n",
    "                print(f\"Erro ao inserir a task: {task}\\nException: {str(e)}\")\r\n",
    "\r\n",
    "            \r\n",
    "\r\n",
    "        Manage_Csv.append_df_to_csv(to_insert, Task.__path)\r\n",
    "        \r\n",
    "    @staticmethod\r\n",
    "    def __check_task_existence(task):\r\n",
    "        existing_tasks = Manage_Csv.read(Task.__path)\r\n",
    "\r\n",
    "        equal_tasks = existing_tasks.loc[(existing_tasks['title'] == task.title) & (existing_tasks['date'] == task.date)].values\r\n",
    "\r\n",
    "        if len(equal_tasks) > 0:\r\n",
    "            print(task)\r\n",
    "            raise Exception('Já existe uma tarefa com o mesmo nome e mesma data.')\r\n",
    "            \r\n",
    "    @staticmethod\r\n",
    "    def delete_task_by_title():\r\n",
    "        pass\r\n",
    "\r\n"
   ]
  },
  {
   "cell_type": "code",
   "execution_count": 8,
   "metadata": {},
   "outputs": [],
   "source": [
    "class Task_List():\r\n",
    "    \r\n",
    "    __path = 'task_list.csv'\r\n",
    "\r\n",
    "    @staticmethod\r\n",
    "    def get_task_list():\r\n",
    "        return Manage_Csv.read(Task_List.__path)"
   ]
  },
  {
   "cell_type": "code",
   "execution_count": 4,
   "metadata": {},
   "outputs": [],
   "source": [
    "class Category:\n",
    "\n",
    "    __categories = {0:'Teste'}\n",
    "    \n",
    "    @staticmethod\n",
    "    def find_code(category_name):\n",
    "        return (list(Category.__categories.keys())[list(Category.__categories.values()).index(category_name)])\n",
    "        "
   ]
  },
  {
   "cell_type": "code",
   "execution_count": 10,
   "metadata": {},
   "outputs": [],
   "source": [
    "class Manage_Csv:\r\n",
    "\r\n",
    "    @staticmethod\r\n",
    "    def read(path):\r\n",
    "        df = pd.read_csv(path)\r\n",
    "        return df\r\n",
    "    \r\n",
    "    @staticmethod\r\n",
    "    def append_df_to_csv(to_append, path):\r\n",
    "        try:\r\n",
    "            to_append.to_csv(path, mode='a', header=False, index=False)\r\n",
    "        except Exception as e:\r\n",
    "            print(e)\r\n",
    "    \r\n",
    "\r\n",
    "\r\n",
    "\r\n",
    "\r\n"
   ]
  },
  {
   "cell_type": "code",
   "execution_count": 11,
   "metadata": {},
   "outputs": [
    {
     "data": {
      "text/html": "<div>\n<style scoped>\n    .dataframe tbody tr th:only-of-type {\n        vertical-align: middle;\n    }\n\n    .dataframe tbody tr th {\n        vertical-align: top;\n    }\n\n    .dataframe thead th {\n        text-align: right;\n    }\n</style>\n<table border=\"1\" class=\"dataframe\">\n  <thead>\n    <tr style=\"text-align: right;\">\n      <th></th>\n      <th>title</th>\n      <th>category_code</th>\n      <th>status</th>\n      <th>date</th>\n    </tr>\n  </thead>\n  <tbody>\n    <tr>\n      <th>0</th>\n      <td>Teste</td>\n      <td>1</td>\n      <td>Pendente</td>\n      <td>22-10-1999</td>\n    </tr>\n    <tr>\n      <th>1</th>\n      <td>Teste de task</td>\n      <td>0</td>\n      <td>Pendente</td>\n      <td>10-02-1645</td>\n    </tr>\n    <tr>\n      <th>2</th>\n      <td>Teste de task</td>\n      <td>0</td>\n      <td>Pendente</td>\n      <td>10-02-1645</td>\n    </tr>\n    <tr>\n      <th>3</th>\n      <td>Teste de task</td>\n      <td>0</td>\n      <td>Pendente</td>\n      <td>10-02-1645</td>\n    </tr>\n    <tr>\n      <th>4</th>\n      <td>Teste de task</td>\n      <td>0</td>\n      <td>Pendente</td>\n      <td>10-02-1645</td>\n    </tr>\n    <tr>\n      <th>5</th>\n      <td>Teste de task</td>\n      <td>0</td>\n      <td>Pendente</td>\n      <td>10-02-1645</td>\n    </tr>\n    <tr>\n      <th>6</th>\n      <td>Outro teste de task</td>\n      <td>0</td>\n      <td>Pendente</td>\n      <td>10-02-1645</td>\n    </tr>\n    <tr>\n      <th>7</th>\n      <td>Outro teste de 2</td>\n      <td>0</td>\n      <td>Pendente</td>\n      <td>10-02-1645</td>\n    </tr>\n  </tbody>\n</table>\n</div>",
      "text/plain": "                 title  category_code    status        date\n0                Teste              1  Pendente  22-10-1999\n1        Teste de task              0  Pendente  10-02-1645\n2        Teste de task              0  Pendente  10-02-1645\n3        Teste de task              0  Pendente  10-02-1645\n4        Teste de task              0  Pendente  10-02-1645\n5        Teste de task              0  Pendente  10-02-1645\n6  Outro teste de task              0  Pendente  10-02-1645\n7     Outro teste de 2              0  Pendente  10-02-1645"
     },
     "execution_count": 11,
     "metadata": {},
     "output_type": "execute_result"
    }
   ],
   "source": [
    "df = Task_List.get_task_list()\r\n",
    "df"
   ]
  },
  {
   "cell_type": "code",
   "execution_count": 12,
   "metadata": {},
   "outputs": [],
   "source": [
    "def menu():\n",
    "    pass"
   ]
  },
  {
   "cell_type": "code",
   "execution_count": 14,
   "metadata": {},
   "outputs": [
    {
     "name": "stdout",
     "output_type": "stream",
     "text": [
      "Outro teste de 2 10-02-1645\n",
      "Erro ao inserir a task: Outro teste de 2 10-02-1645\n",
      "Exception: Já existe uma tarefa com o mesmo nome e mesma data.\n"
     ]
    }
   ],
   "source": [
    "\r\n",
    "task1 = Task('Outro teste de 2','10-02-1645','Teste')\r\n",
    "Task.insert_task(task1)"
   ]
  },
  {
   "cell_type": "code",
   "execution_count": 100,
   "metadata": {},
   "outputs": [
    {
     "data": {
      "text/plain": [
       "'Outro teste de task'"
      ]
     },
     "execution_count": 100,
     "metadata": {},
     "output_type": "execute_result"
    }
   ],
   "source": []
  },
  {
   "cell_type": "code",
   "execution_count": null,
   "metadata": {},
   "outputs": [],
   "source": []
  }
 ],
 "metadata": {
  "interpreter": {
   "hash": "b3ba2566441a7c06988d0923437866b63cedc61552a5af99d1f4fb67d367b25f"
  },
  "kernelspec": {
   "display_name": "Python 3.8.8 64-bit ('base': conda)",
   "language": "python",
   "name": "python3"
  },
  "language_info": {
   "codemirror_mode": {
    "name": "ipython",
    "version": 3
   },
   "file_extension": ".py",
   "mimetype": "text/x-python",
   "name": "python",
   "nbconvert_exporter": "python",
   "pygments_lexer": "ipython3",
   "version": "3.8.8"
  },
  "orig_nbformat": 4
 },
 "nbformat": 4,
 "nbformat_minor": 2
}